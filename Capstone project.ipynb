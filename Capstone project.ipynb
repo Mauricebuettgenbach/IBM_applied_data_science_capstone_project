{
 "metadata": {
  "language_info": {
   "codemirror_mode": {
    "name": "ipython",
    "version": 3
   },
   "file_extension": ".py",
   "mimetype": "text/x-python",
   "name": "python",
   "nbconvert_exporter": "python",
   "pygments_lexer": "ipython3",
   "version": "3.9.4"
  },
  "orig_nbformat": 2,
  "kernelspec": {
   "name": "python394jvsc74a57bd017a23fa82b80e532a888b24df1db1b67274acb4028762d2198cf0d3828c842fb",
   "display_name": "Python 3.9.4 64-bit"
  },
  "metadata": {
   "interpreter": {
    "hash": "17a23fa82b80e532a888b24df1db1b67274acb4028762d2198cf0d3828c842fb"
   }
  }
 },
 "nbformat": 4,
 "nbformat_minor": 2,
 "cells": [
  {
   "source": [
    "# IBM - Applied data science capstone project\n",
    "This notebook only serves the purpouse to document and pass the capstone project for the data science professional certificate by IBM on coursera. \n",
    "\n",
    "Check out the link for more information: [Applied Data Science Capstone](https://www.coursera.org/learn/applied-data-science-capstone)"
   ],
   "cell_type": "markdown",
   "metadata": {}
  },
  {
   "source": [
    "<br>"
   ],
   "cell_type": "markdown",
   "metadata": {}
  },
  {
   "source": [
    "## Table of content\n",
    "1. **[Peer graded assignment 1: Capstone Project Notebook](#PA_1)** <br><br>\n",
    "2. **[Peer graded Assignment 2: Segmenting and Clustering Neighborhoods in Toronto](#PA_2)** <br>\n",
    "    2.1 [Task 1: Create a dataframe about Toronto's neighborhoods](#PA_2_1) <br>\n",
    "    2.2 [Task 2: Add geospatial data to your dataframe](#PA_2_2) <br>\n",
    "    2.3 [Task 3: Explore and cluster the neighborhoods in Toronto](#PA_2_3)"
   ],
   "cell_type": "markdown",
   "metadata": {}
  },
  {
   "source": [
    "<br>"
   ],
   "cell_type": "markdown",
   "metadata": {}
  },
  {
   "source": [
    "## Peer graded assignment 1: Capstone Project Notebook <a name=\"PA_1\" ></a>\n",
    "The following lines of code are only supposed to satisfy the peer graded assignment number 1 and do not serve any other purpose at this point."
   ],
   "cell_type": "markdown",
   "metadata": {}
  },
  {
   "cell_type": "code",
   "execution_count": 100,
   "metadata": {},
   "outputs": [],
   "source": [
    "# Import working libraries\n",
    "import pandas as pd\n",
    "import numpy as np"
   ]
  },
  {
   "cell_type": "code",
   "execution_count": 101,
   "metadata": {},
   "outputs": [
    {
     "output_type": "stream",
     "name": "stdout",
     "text": [
      "Hello Capstone Project Course!\n"
     ]
    }
   ],
   "source": [
    "print(\"Hello Capstone Project Course!\")"
   ]
  },
  {
   "source": [
    "<br>\n",
    "<br>\n",
    "<br>\n",
    "<br>"
   ],
   "cell_type": "markdown",
   "metadata": {}
  },
  {
   "source": [
    "## Peer graded Assignment 2: Segmenting and Clustering Neighborhoods in Toronto <a name=\"PA_2\" ></a>\n",
    "The following code sections only serve the purpose of solving the given tasks."
   ],
   "cell_type": "markdown",
   "metadata": {}
  },
  {
   "source": [
    "<br>"
   ],
   "cell_type": "markdown",
   "metadata": {}
  },
  {
   "source": [
    "### Task 1: Create a dataframe about Toronto's neighborhoods <a name=\"PA_2_1\" ></a>\n",
    "To solve this task, we have to scrape the neighborhoods table from Toronto's [Wikipedia website](https://en.wikipedia.org/wiki/List_of_postal_codes_of_Canada:_M). <br><br>\n",
    "\n",
    "To do so, we will use the Pandas \"read_html\" function in order to scrape the Wikipedia page."
   ],
   "cell_type": "markdown",
   "metadata": {}
  },
  {
   "cell_type": "code",
   "execution_count": 102,
   "metadata": {},
   "outputs": [
    {
     "output_type": "stream",
     "name": "stdout",
     "text": [
      "The downloaded website contains 3 tables.\n"
     ]
    }
   ],
   "source": [
    "url = \"https://en.wikipedia.org/wiki/List_of_postal_codes_of_Canada:_M\" # Define url\n",
    "dfs = pd.read_html(url) # Download tables on website via pandas\n",
    "print(\"The downloaded website contains {} tables.\".format(len(dfs))) # Display how many tables have been downloaded"
   ]
  },
  {
   "source": [
    "As we can see, we have downloaded multiple tables. A quick visual check on the website itself shows us that the information we are interested in lies within table 1. We thus need to extract table 1 from the downloaded website."
   ],
   "cell_type": "markdown",
   "metadata": {}
  },
  {
   "cell_type": "code",
   "execution_count": 103,
   "metadata": {},
   "outputs": [
    {
     "output_type": "execute_result",
     "data": {
      "text/plain": [
       "                                                   0                1  \\\n",
       "0                                    M1ANot assigned  M2ANot assigned   \n",
       "1                    M1BScarborough(Malvern / Rouge)  M2BNot assigned   \n",
       "2  M1CScarborough(Rouge Hill / Port Union / Highl...  M2CNot assigned   \n",
       "3  M1EScarborough(Guildwood / Morningside / West ...  M2ENot assigned   \n",
       "4                             M1GScarborough(Woburn)  M2GNot assigned   \n",
       "\n",
       "                                                2  \\\n",
       "0                        M3ANorth York(Parkwoods)   \n",
       "1                   M3BNorth York(Don Mills)North   \n",
       "2  M3CNorth York(Don Mills)South(Flemingdon Park)   \n",
       "3                                 M3ENot assigned   \n",
       "4                                 M3GNot assigned   \n",
       "\n",
       "                                                3  \\\n",
       "0                 M4ANorth York(Victoria Village)   \n",
       "1  M4BEast York(Parkview Hill / Woodbine Gardens)   \n",
       "2                  M4CEast York(Woodbine Heights)   \n",
       "3                    M4EEast Toronto(The Beaches)   \n",
       "4                           M4GEast York(Leaside)   \n",
       "\n",
       "                                                 4  \\\n",
       "0  M5ADowntown Toronto(Regent Park / Harbourfront)   \n",
       "1    M5BDowntown Toronto(Garden District, Ryerson)   \n",
       "2              M5CDowntown Toronto(St. James Town)   \n",
       "3                 M5EDowntown Toronto(Berczy Park)   \n",
       "4          M5GDowntown Toronto(Central Bay Street)   \n",
       "\n",
       "                                                  5  \\\n",
       "0  M6ANorth York(Lawrence Manor / Lawrence Heights)   \n",
       "1                          M6BNorth York(Glencairn)   \n",
       "2                       M6CYork(Humewood-Cedarvale)   \n",
       "3                      M6EYork(Caledonia-Fairbanks)   \n",
       "4                     M6GDowntown Toronto(Christie)   \n",
       "\n",
       "                                                6                7  \\\n",
       "0  M7AQueen's Park(Ontario Provincial Government)  M8ANot assigned   \n",
       "1                                 M7BNot assigned  M8BNot assigned   \n",
       "2                                 M7CNot assigned  M8CNot assigned   \n",
       "3                                 M7ENot assigned  M8ENot assigned   \n",
       "4                                 M7GNot assigned  M8GNot assigned   \n",
       "\n",
       "                                                   8  \n",
       "0                     M9AEtobicoke(Islington Avenue)  \n",
       "1  M9BEtobicoke(West Deane Park / Princess Garden...  \n",
       "2  M9CEtobicoke(Eringate / Bloordale Gardens / Ol...  \n",
       "3                                    M9ENot assigned  \n",
       "4                                    M9GNot assigned  "
      ],
      "text/html": "<div>\n<style scoped>\n    .dataframe tbody tr th:only-of-type {\n        vertical-align: middle;\n    }\n\n    .dataframe tbody tr th {\n        vertical-align: top;\n    }\n\n    .dataframe thead th {\n        text-align: right;\n    }\n</style>\n<table border=\"1\" class=\"dataframe\">\n  <thead>\n    <tr style=\"text-align: right;\">\n      <th></th>\n      <th>0</th>\n      <th>1</th>\n      <th>2</th>\n      <th>3</th>\n      <th>4</th>\n      <th>5</th>\n      <th>6</th>\n      <th>7</th>\n      <th>8</th>\n    </tr>\n  </thead>\n  <tbody>\n    <tr>\n      <th>0</th>\n      <td>M1ANot assigned</td>\n      <td>M2ANot assigned</td>\n      <td>M3ANorth York(Parkwoods)</td>\n      <td>M4ANorth York(Victoria Village)</td>\n      <td>M5ADowntown Toronto(Regent Park / Harbourfront)</td>\n      <td>M6ANorth York(Lawrence Manor / Lawrence Heights)</td>\n      <td>M7AQueen's Park(Ontario Provincial Government)</td>\n      <td>M8ANot assigned</td>\n      <td>M9AEtobicoke(Islington Avenue)</td>\n    </tr>\n    <tr>\n      <th>1</th>\n      <td>M1BScarborough(Malvern / Rouge)</td>\n      <td>M2BNot assigned</td>\n      <td>M3BNorth York(Don Mills)North</td>\n      <td>M4BEast York(Parkview Hill / Woodbine Gardens)</td>\n      <td>M5BDowntown Toronto(Garden District, Ryerson)</td>\n      <td>M6BNorth York(Glencairn)</td>\n      <td>M7BNot assigned</td>\n      <td>M8BNot assigned</td>\n      <td>M9BEtobicoke(West Deane Park / Princess Garden...</td>\n    </tr>\n    <tr>\n      <th>2</th>\n      <td>M1CScarborough(Rouge Hill / Port Union / Highl...</td>\n      <td>M2CNot assigned</td>\n      <td>M3CNorth York(Don Mills)South(Flemingdon Park)</td>\n      <td>M4CEast York(Woodbine Heights)</td>\n      <td>M5CDowntown Toronto(St. James Town)</td>\n      <td>M6CYork(Humewood-Cedarvale)</td>\n      <td>M7CNot assigned</td>\n      <td>M8CNot assigned</td>\n      <td>M9CEtobicoke(Eringate / Bloordale Gardens / Ol...</td>\n    </tr>\n    <tr>\n      <th>3</th>\n      <td>M1EScarborough(Guildwood / Morningside / West ...</td>\n      <td>M2ENot assigned</td>\n      <td>M3ENot assigned</td>\n      <td>M4EEast Toronto(The Beaches)</td>\n      <td>M5EDowntown Toronto(Berczy Park)</td>\n      <td>M6EYork(Caledonia-Fairbanks)</td>\n      <td>M7ENot assigned</td>\n      <td>M8ENot assigned</td>\n      <td>M9ENot assigned</td>\n    </tr>\n    <tr>\n      <th>4</th>\n      <td>M1GScarborough(Woburn)</td>\n      <td>M2GNot assigned</td>\n      <td>M3GNot assigned</td>\n      <td>M4GEast York(Leaside)</td>\n      <td>M5GDowntown Toronto(Central Bay Street)</td>\n      <td>M6GDowntown Toronto(Christie)</td>\n      <td>M7GNot assigned</td>\n      <td>M8GNot assigned</td>\n      <td>M9GNot assigned</td>\n    </tr>\n  </tbody>\n</table>\n</div>"
     },
     "metadata": {},
     "execution_count": 103
    }
   ],
   "source": [
    "df = dfs[0] # Get first table\n",
    "df.head()"
   ]
  },
  {
   "source": [
    "We can see that we downloaded the correct data. The data, however, is messy and needs to be cleaned before we can use it for something else:"
   ],
   "cell_type": "markdown",
   "metadata": {}
  },
  {
   "source": [
    "#### Stacking the columns horizontally\n",
    "To be able to iterate through the columns more easily, we need to stack them. We can do so by appending each column to a new variable. In result, we will have all converted our initial df with 20 rows and 9 columns to a new df with 180 rows and 1 column."
   ],
   "cell_type": "markdown",
   "metadata": {}
  },
  {
   "cell_type": "code",
   "execution_count": 104,
   "metadata": {},
   "outputs": [
    {
     "output_type": "stream",
     "name": "stdout",
     "text": [
      "The stacked df has 180 rows and 1 columns:\n"
     ]
    },
    {
     "output_type": "execute_result",
     "data": {
      "text/plain": [
       "                                                   0\n",
       "0                                    M1ANot assigned\n",
       "1                    M1BScarborough(Malvern / Rouge)\n",
       "2  M1CScarborough(Rouge Hill / Port Union / Highl...\n",
       "3  M1EScarborough(Guildwood / Morningside / West ...\n",
       "4                             M1GScarborough(Woburn)"
      ],
      "text/html": "<div>\n<style scoped>\n    .dataframe tbody tr th:only-of-type {\n        vertical-align: middle;\n    }\n\n    .dataframe tbody tr th {\n        vertical-align: top;\n    }\n\n    .dataframe thead th {\n        text-align: right;\n    }\n</style>\n<table border=\"1\" class=\"dataframe\">\n  <thead>\n    <tr style=\"text-align: right;\">\n      <th></th>\n      <th>0</th>\n    </tr>\n  </thead>\n  <tbody>\n    <tr>\n      <th>0</th>\n      <td>M1ANot assigned</td>\n    </tr>\n    <tr>\n      <th>1</th>\n      <td>M1BScarborough(Malvern / Rouge)</td>\n    </tr>\n    <tr>\n      <th>2</th>\n      <td>M1CScarborough(Rouge Hill / Port Union / Highl...</td>\n    </tr>\n    <tr>\n      <th>3</th>\n      <td>M1EScarborough(Guildwood / Morningside / West ...</td>\n    </tr>\n    <tr>\n      <th>4</th>\n      <td>M1GScarborough(Woburn)</td>\n    </tr>\n  </tbody>\n</table>\n</div>"
     },
     "metadata": {},
     "execution_count": 104
    }
   ],
   "source": [
    "df_stacked = df[0] # Grab first column in new variable\n",
    "\n",
    "for column in df.columns[1:]: # Iterate through columns, starting with the second column\n",
    "    df_stacked = df_stacked.append(df[column]) # Append each column to new variable\n",
    "\n",
    "df_stacked = pd.DataFrame(df_stacked) # Convert back to df\n",
    "print(\"The stacked df has {} rows and {} columns:\".format(df_stacked.shape[0], df_stacked.shape[1]))\n",
    "df_stacked.head()"
   ]
  },
  {
   "source": [
    "#### Getting the post codes\n",
    "When we observe the data more closely, we can notice that the postal code is contained in the first three letters of each string. We can store these in a new column by accessing the first three positions of the string:"
   ],
   "cell_type": "markdown",
   "metadata": {}
  },
  {
   "cell_type": "code",
   "execution_count": 105,
   "metadata": {},
   "outputs": [
    {
     "output_type": "execute_result",
     "data": {
      "text/plain": [
       "                                                   0 POSTAL_CODE\n",
       "0                                    M1ANot assigned         M1A\n",
       "1                    M1BScarborough(Malvern / Rouge)         M1B\n",
       "2  M1CScarborough(Rouge Hill / Port Union / Highl...         M1C\n",
       "3  M1EScarborough(Guildwood / Morningside / West ...         M1E\n",
       "4                             M1GScarborough(Woburn)         M1G"
      ],
      "text/html": "<div>\n<style scoped>\n    .dataframe tbody tr th:only-of-type {\n        vertical-align: middle;\n    }\n\n    .dataframe tbody tr th {\n        vertical-align: top;\n    }\n\n    .dataframe thead th {\n        text-align: right;\n    }\n</style>\n<table border=\"1\" class=\"dataframe\">\n  <thead>\n    <tr style=\"text-align: right;\">\n      <th></th>\n      <th>0</th>\n      <th>POSTAL_CODE</th>\n    </tr>\n  </thead>\n  <tbody>\n    <tr>\n      <th>0</th>\n      <td>M1ANot assigned</td>\n      <td>M1A</td>\n    </tr>\n    <tr>\n      <th>1</th>\n      <td>M1BScarborough(Malvern / Rouge)</td>\n      <td>M1B</td>\n    </tr>\n    <tr>\n      <th>2</th>\n      <td>M1CScarborough(Rouge Hill / Port Union / Highl...</td>\n      <td>M1C</td>\n    </tr>\n    <tr>\n      <th>3</th>\n      <td>M1EScarborough(Guildwood / Morningside / West ...</td>\n      <td>M1E</td>\n    </tr>\n    <tr>\n      <th>4</th>\n      <td>M1GScarborough(Woburn)</td>\n      <td>M1G</td>\n    </tr>\n  </tbody>\n</table>\n</div>"
     },
     "metadata": {},
     "execution_count": 105
    }
   ],
   "source": [
    "df_stacked['POSTAL_CODE'] = df_stacked[0].str[:3] # Receive first three characters as string\n",
    "df_stacked.head()"
   ]
  },
  {
   "source": [
    "#### Getting the boroughs\n",
    "When we have a second look at the downloaded information, we can see that the boroughs always start after the postal code (first three letters) and end before a \"(\" character. We can use the split function to split our information and then delete the rest of the string to isolate the boroughs:"
   ],
   "cell_type": "markdown",
   "metadata": {}
  },
  {
   "cell_type": "code",
   "execution_count": 106,
   "metadata": {},
   "outputs": [
    {
     "output_type": "execute_result",
     "data": {
      "text/plain": [
       "                                                   0 POSTAL_CODE       BOROUGH\n",
       "0                                    M1ANot assigned         M1A  Not assigned\n",
       "1                    M1BScarborough(Malvern / Rouge)         M1B   Scarborough\n",
       "2  M1CScarborough(Rouge Hill / Port Union / Highl...         M1C   Scarborough\n",
       "3  M1EScarborough(Guildwood / Morningside / West ...         M1E   Scarborough\n",
       "4                             M1GScarborough(Woburn)         M1G   Scarborough"
      ],
      "text/html": "<div>\n<style scoped>\n    .dataframe tbody tr th:only-of-type {\n        vertical-align: middle;\n    }\n\n    .dataframe tbody tr th {\n        vertical-align: top;\n    }\n\n    .dataframe thead th {\n        text-align: right;\n    }\n</style>\n<table border=\"1\" class=\"dataframe\">\n  <thead>\n    <tr style=\"text-align: right;\">\n      <th></th>\n      <th>0</th>\n      <th>POSTAL_CODE</th>\n      <th>BOROUGH</th>\n    </tr>\n  </thead>\n  <tbody>\n    <tr>\n      <th>0</th>\n      <td>M1ANot assigned</td>\n      <td>M1A</td>\n      <td>Not assigned</td>\n    </tr>\n    <tr>\n      <th>1</th>\n      <td>M1BScarborough(Malvern / Rouge)</td>\n      <td>M1B</td>\n      <td>Scarborough</td>\n    </tr>\n    <tr>\n      <th>2</th>\n      <td>M1CScarborough(Rouge Hill / Port Union / Highl...</td>\n      <td>M1C</td>\n      <td>Scarborough</td>\n    </tr>\n    <tr>\n      <th>3</th>\n      <td>M1EScarborough(Guildwood / Morningside / West ...</td>\n      <td>M1E</td>\n      <td>Scarborough</td>\n    </tr>\n    <tr>\n      <th>4</th>\n      <td>M1GScarborough(Woburn)</td>\n      <td>M1G</td>\n      <td>Scarborough</td>\n    </tr>\n  </tbody>\n</table>\n</div>"
     },
     "metadata": {},
     "execution_count": 106
    }
   ],
   "source": [
    "split_char = \"(\" # Define ( as the character to split the string\n",
    "df_stacked['BOROUGH'] = df_stacked[0].str.split(pat=split_char) # Splits the string after the ( character\n",
    "\n",
    "df_stacked['BOROUGH'] = df_stacked['BOROUGH'].str[0] # Select first split\n",
    "df_stacked['BOROUGH'] = df_stacked['BOROUGH'].str[3:] # Kick out the first three letters (postal code)\n",
    "\n",
    "df_stacked.head()"
   ]
  },
  {
   "source": [
    "#### Getting the neighborhoods\n",
    "In this step, we need to extract the neighborhoods. We can do that with the same approach as above. Afterwards, we will seperate the neighborhoods with a \",\" instead of a \"/\" as the course material tells us to."
   ],
   "cell_type": "markdown",
   "metadata": {}
  },
  {
   "cell_type": "code",
   "execution_count": 107,
   "metadata": {},
   "outputs": [
    {
     "output_type": "execute_result",
     "data": {
      "text/plain": [
       "                                                   0 POSTAL_CODE  \\\n",
       "0                                    M1ANot assigned         M1A   \n",
       "1                    M1BScarborough(Malvern / Rouge)         M1B   \n",
       "2  M1CScarborough(Rouge Hill / Port Union / Highl...         M1C   \n",
       "3  M1EScarborough(Guildwood / Morningside / West ...         M1E   \n",
       "4                             M1GScarborough(Woburn)         M1G   \n",
       "\n",
       "        BOROUGH                            NEIGHBORHOOD  \n",
       "0  Not assigned                                     NaN  \n",
       "1   Scarborough                          Malvern, Rouge  \n",
       "2   Scarborough  Rouge Hill, Port Union, Highland Creek  \n",
       "3   Scarborough       Guildwood, Morningside, West Hill  \n",
       "4   Scarborough                                  Woburn  "
      ],
      "text/html": "<div>\n<style scoped>\n    .dataframe tbody tr th:only-of-type {\n        vertical-align: middle;\n    }\n\n    .dataframe tbody tr th {\n        vertical-align: top;\n    }\n\n    .dataframe thead th {\n        text-align: right;\n    }\n</style>\n<table border=\"1\" class=\"dataframe\">\n  <thead>\n    <tr style=\"text-align: right;\">\n      <th></th>\n      <th>0</th>\n      <th>POSTAL_CODE</th>\n      <th>BOROUGH</th>\n      <th>NEIGHBORHOOD</th>\n    </tr>\n  </thead>\n  <tbody>\n    <tr>\n      <th>0</th>\n      <td>M1ANot assigned</td>\n      <td>M1A</td>\n      <td>Not assigned</td>\n      <td>NaN</td>\n    </tr>\n    <tr>\n      <th>1</th>\n      <td>M1BScarborough(Malvern / Rouge)</td>\n      <td>M1B</td>\n      <td>Scarborough</td>\n      <td>Malvern, Rouge</td>\n    </tr>\n    <tr>\n      <th>2</th>\n      <td>M1CScarborough(Rouge Hill / Port Union / Highl...</td>\n      <td>M1C</td>\n      <td>Scarborough</td>\n      <td>Rouge Hill, Port Union, Highland Creek</td>\n    </tr>\n    <tr>\n      <th>3</th>\n      <td>M1EScarborough(Guildwood / Morningside / West ...</td>\n      <td>M1E</td>\n      <td>Scarborough</td>\n      <td>Guildwood, Morningside, West Hill</td>\n    </tr>\n    <tr>\n      <th>4</th>\n      <td>M1GScarborough(Woburn)</td>\n      <td>M1G</td>\n      <td>Scarborough</td>\n      <td>Woburn</td>\n    </tr>\n  </tbody>\n</table>\n</div>"
     },
     "metadata": {},
     "execution_count": 107
    }
   ],
   "source": [
    "split_char = \"(\" # Define ( as the character to split the string\n",
    "df_stacked['NEIGHBORHOOD'] = df_stacked[0].str.split(pat=split_char) # Splits the string after the \"(\" character\n",
    "\n",
    "df_stacked['NEIGHBORHOOD'] = df_stacked['NEIGHBORHOOD'].str[1] # Select second split\n",
    "df_stacked['NEIGHBORHOOD'] = df_stacked['NEIGHBORHOOD'].str[:-1] # Kick out the last character \"(\"\n",
    "\n",
    "df_stacked['NEIGHBORHOOD'] = df_stacked['NEIGHBORHOOD'].str.replace(\" / \", \", \")\n",
    "\n",
    "df_stacked.head()"
   ]
  },
  {
   "source": [
    "#### Cleaning up the dataframe\n",
    "Finally, we can clean up the data to fullfill the courses' requirements for task 1. First, we will drop the column with the messy data:"
   ],
   "cell_type": "markdown",
   "metadata": {}
  },
  {
   "cell_type": "code",
   "execution_count": 108,
   "metadata": {},
   "outputs": [
    {
     "output_type": "execute_result",
     "data": {
      "text/plain": [
       "  POSTAL_CODE       BOROUGH                            NEIGHBORHOOD\n",
       "0         M1A  Not assigned                                     NaN\n",
       "1         M1B   Scarborough                          Malvern, Rouge\n",
       "2         M1C   Scarborough  Rouge Hill, Port Union, Highland Creek\n",
       "3         M1E   Scarborough       Guildwood, Morningside, West Hill\n",
       "4         M1G   Scarborough                                  Woburn"
      ],
      "text/html": "<div>\n<style scoped>\n    .dataframe tbody tr th:only-of-type {\n        vertical-align: middle;\n    }\n\n    .dataframe tbody tr th {\n        vertical-align: top;\n    }\n\n    .dataframe thead th {\n        text-align: right;\n    }\n</style>\n<table border=\"1\" class=\"dataframe\">\n  <thead>\n    <tr style=\"text-align: right;\">\n      <th></th>\n      <th>POSTAL_CODE</th>\n      <th>BOROUGH</th>\n      <th>NEIGHBORHOOD</th>\n    </tr>\n  </thead>\n  <tbody>\n    <tr>\n      <th>0</th>\n      <td>M1A</td>\n      <td>Not assigned</td>\n      <td>NaN</td>\n    </tr>\n    <tr>\n      <th>1</th>\n      <td>M1B</td>\n      <td>Scarborough</td>\n      <td>Malvern, Rouge</td>\n    </tr>\n    <tr>\n      <th>2</th>\n      <td>M1C</td>\n      <td>Scarborough</td>\n      <td>Rouge Hill, Port Union, Highland Creek</td>\n    </tr>\n    <tr>\n      <th>3</th>\n      <td>M1E</td>\n      <td>Scarborough</td>\n      <td>Guildwood, Morningside, West Hill</td>\n    </tr>\n    <tr>\n      <th>4</th>\n      <td>M1G</td>\n      <td>Scarborough</td>\n      <td>Woburn</td>\n    </tr>\n  </tbody>\n</table>\n</div>"
     },
     "metadata": {},
     "execution_count": 108
    }
   ],
   "source": [
    "df_stacked.drop(columns=[0], inplace=True)\n",
    "df_stacked.head()"
   ]
  },
  {
   "source": [
    "Next, we will get rid of all rows where the borough is not assigned:"
   ],
   "cell_type": "markdown",
   "metadata": {}
  },
  {
   "cell_type": "code",
   "execution_count": 109,
   "metadata": {},
   "outputs": [
    {
     "output_type": "execute_result",
     "data": {
      "text/plain": [
       "  POSTAL_CODE      BOROUGH                            NEIGHBORHOOD\n",
       "1         M1B  Scarborough                          Malvern, Rouge\n",
       "2         M1C  Scarborough  Rouge Hill, Port Union, Highland Creek\n",
       "3         M1E  Scarborough       Guildwood, Morningside, West Hill\n",
       "4         M1G  Scarborough                                  Woburn\n",
       "5         M1H  Scarborough                               Cedarbrae"
      ],
      "text/html": "<div>\n<style scoped>\n    .dataframe tbody tr th:only-of-type {\n        vertical-align: middle;\n    }\n\n    .dataframe tbody tr th {\n        vertical-align: top;\n    }\n\n    .dataframe thead th {\n        text-align: right;\n    }\n</style>\n<table border=\"1\" class=\"dataframe\">\n  <thead>\n    <tr style=\"text-align: right;\">\n      <th></th>\n      <th>POSTAL_CODE</th>\n      <th>BOROUGH</th>\n      <th>NEIGHBORHOOD</th>\n    </tr>\n  </thead>\n  <tbody>\n    <tr>\n      <th>1</th>\n      <td>M1B</td>\n      <td>Scarborough</td>\n      <td>Malvern, Rouge</td>\n    </tr>\n    <tr>\n      <th>2</th>\n      <td>M1C</td>\n      <td>Scarborough</td>\n      <td>Rouge Hill, Port Union, Highland Creek</td>\n    </tr>\n    <tr>\n      <th>3</th>\n      <td>M1E</td>\n      <td>Scarborough</td>\n      <td>Guildwood, Morningside, West Hill</td>\n    </tr>\n    <tr>\n      <th>4</th>\n      <td>M1G</td>\n      <td>Scarborough</td>\n      <td>Woburn</td>\n    </tr>\n    <tr>\n      <th>5</th>\n      <td>M1H</td>\n      <td>Scarborough</td>\n      <td>Cedarbrae</td>\n    </tr>\n  </tbody>\n</table>\n</div>"
     },
     "metadata": {},
     "execution_count": 109
    }
   ],
   "source": [
    "df_stacked = df_stacked.reset_index(drop=True) # Reset index\n",
    "index_names = df_stacked[df_stacked['BOROUGH'] == 'Not assigned'].index # Define condition\n",
    "df_stacked.drop(index_names, axis=0, inplace=True) # Drop rows that meet condition\n",
    "df_stacked.head()"
   ]
  },
  {
   "source": [
    "The course says that the data set includes duplicates in the postal codes column. We therefore will check our dataframe for duplicates: "
   ],
   "cell_type": "markdown",
   "metadata": {}
  },
  {
   "cell_type": "code",
   "execution_count": 110,
   "metadata": {},
   "outputs": [
    {
     "output_type": "stream",
     "name": "stdout",
     "text": [
      "We have 0 duplicates in our postal codes.\n"
     ]
    }
   ],
   "source": [
    "duplicates = df_stacked['POSTAL_CODE'].duplicated() # Check for duplicates\n",
    "print(\"We have {} duplicates in our postal codes.\".format(duplicates.sum())) # Count duplicates = True"
   ]
  },
  {
   "source": [
    "As we have no duplicates in our postal code column, we can move on and check whether we have a the value \"Not assigned\" in our neighborhoods column:"
   ],
   "cell_type": "markdown",
   "metadata": {}
  },
  {
   "cell_type": "code",
   "execution_count": 111,
   "metadata": {},
   "outputs": [
    {
     "output_type": "stream",
     "name": "stdout",
     "text": [
      "No missing neighborhoods, proceed.\n"
     ]
    }
   ],
   "source": [
    "if 'Not assigned' in set(df_stacked['NEIGHBORHOOD']) == True:\n",
    "    print(\"There are missing neighborhoods, please check.\")\n",
    "\n",
    "else:\n",
    "    print(\"No missing neighborhoods, proceed.\")"
   ]
  },
  {
   "source": [
    "Since we do not have any unassigned neighborhoods, we can proceed to the final step - assigning our cleaned dataframe to a new variable for further processing:"
   ],
   "cell_type": "markdown",
   "metadata": {}
  },
  {
   "cell_type": "code",
   "execution_count": 112,
   "metadata": {},
   "outputs": [
    {
     "output_type": "stream",
     "name": "stdout",
     "text": [
      "The Torono neighborhood df has 103 rows and 3 columns:\n\n"
     ]
    },
    {
     "output_type": "execute_result",
     "data": {
      "text/plain": [
       "  POSTAL_CODE      BOROUGH                            NEIGHBORHOOD\n",
       "1         M1B  Scarborough                          Malvern, Rouge\n",
       "2         M1C  Scarborough  Rouge Hill, Port Union, Highland Creek\n",
       "3         M1E  Scarborough       Guildwood, Morningside, West Hill\n",
       "4         M1G  Scarborough                                  Woburn\n",
       "5         M1H  Scarborough                               Cedarbrae"
      ],
      "text/html": "<div>\n<style scoped>\n    .dataframe tbody tr th:only-of-type {\n        vertical-align: middle;\n    }\n\n    .dataframe tbody tr th {\n        vertical-align: top;\n    }\n\n    .dataframe thead th {\n        text-align: right;\n    }\n</style>\n<table border=\"1\" class=\"dataframe\">\n  <thead>\n    <tr style=\"text-align: right;\">\n      <th></th>\n      <th>POSTAL_CODE</th>\n      <th>BOROUGH</th>\n      <th>NEIGHBORHOOD</th>\n    </tr>\n  </thead>\n  <tbody>\n    <tr>\n      <th>1</th>\n      <td>M1B</td>\n      <td>Scarborough</td>\n      <td>Malvern, Rouge</td>\n    </tr>\n    <tr>\n      <th>2</th>\n      <td>M1C</td>\n      <td>Scarborough</td>\n      <td>Rouge Hill, Port Union, Highland Creek</td>\n    </tr>\n    <tr>\n      <th>3</th>\n      <td>M1E</td>\n      <td>Scarborough</td>\n      <td>Guildwood, Morningside, West Hill</td>\n    </tr>\n    <tr>\n      <th>4</th>\n      <td>M1G</td>\n      <td>Scarborough</td>\n      <td>Woburn</td>\n    </tr>\n    <tr>\n      <th>5</th>\n      <td>M1H</td>\n      <td>Scarborough</td>\n      <td>Cedarbrae</td>\n    </tr>\n  </tbody>\n</table>\n</div>"
     },
     "metadata": {},
     "execution_count": 112
    }
   ],
   "source": [
    "toronto = df_stacked\n",
    "print(\"The Torono neighborhood df has {} rows and {} columns:\".format(toronto.shape[0], toronto.shape[1]))\n",
    "print()\n",
    "toronto.head()"
   ]
  },
  {
   "source": [
    "<br>"
   ],
   "cell_type": "markdown",
   "metadata": {}
  },
  {
   "source": [
    "### Task 2: Add geospatial data to your dataframe <a name=\"PA_2_2\" ></a>\n",
    "To solve this task we are asked to add geographical data to our toronto dataframe. We are asked to do so using the geocoder library. As the code provided by the course includes an infinite while loop that does not give us a guarantee for success, I have decided to intially run it only for 100 times. I will then decide how to proceed based on the results: "
   ],
   "cell_type": "markdown",
   "metadata": {}
  },
  {
   "cell_type": "code",
   "execution_count": 113,
   "metadata": {},
   "outputs": [
    {
     "output_type": "stream",
     "name": "stdout",
     "text": [
      "None\n",
      "None\n",
      "None\n",
      "None\n",
      "None\n",
      "None\n",
      "None\n",
      "None\n",
      "None\n",
      "None\n",
      "None\n",
      "None\n",
      "None\n",
      "None\n",
      "None\n",
      "None\n",
      "None\n",
      "None\n",
      "None\n",
      "None\n",
      "None\n",
      "None\n",
      "None\n",
      "None\n",
      "None\n",
      "None\n",
      "None\n",
      "None\n",
      "None\n",
      "None\n",
      "None\n",
      "None\n",
      "None\n",
      "None\n",
      "None\n",
      "None\n",
      "None\n",
      "None\n",
      "None\n",
      "None\n",
      "None\n",
      "None\n",
      "None\n",
      "None\n",
      "None\n",
      "None\n",
      "None\n",
      "None\n",
      "None\n",
      "None\n",
      "None\n",
      "None\n",
      "None\n",
      "None\n",
      "None\n",
      "None\n",
      "None\n",
      "None\n",
      "None\n",
      "None\n",
      "None\n",
      "None\n",
      "None\n",
      "None\n",
      "None\n",
      "None\n",
      "None\n",
      "None\n",
      "None\n",
      "None\n",
      "None\n",
      "None\n",
      "None\n",
      "None\n",
      "None\n",
      "None\n",
      "None\n",
      "None\n",
      "None\n",
      "None\n",
      "None\n",
      "None\n",
      "None\n",
      "None\n",
      "None\n",
      "None\n",
      "None\n",
      "None\n",
      "None\n",
      "None\n",
      "None\n",
      "None\n",
      "None\n",
      "None\n",
      "None\n",
      "None\n",
      "None\n",
      "None\n",
      "None\n",
      "None\n"
     ]
    }
   ],
   "source": [
    "import geocoder\n",
    "\n",
    "for i in range(100):\n",
    "   g = geocoder.google('{}, Toronto, Ontario'.format('M1B'))\n",
    "   lat_lng_coords = g.latlng\n",
    "   print(lat_lng_coords)"
   ]
  },
  {
   "source": [
    "We can see that the code returns 100 times \"None\". We can check the variable \"g\" for more information: "
   ],
   "cell_type": "markdown",
   "metadata": {}
  },
  {
   "source": [
    "print(g)"
   ],
   "cell_type": "code",
   "metadata": {},
   "execution_count": 114,
   "outputs": [
    {
     "output_type": "stream",
     "name": "stdout",
     "text": [
      "<[REQUEST_DENIED] Google - Geocode [empty]>\n"
     ]
    }
   ]
  },
  {
   "source": [
    "As we can see, the request was denied by Google. A quick research regarding the API shows that the geocoder library nolonger seems to work as Google has provided its own [Google Maps library](https://github.com/googlemaps/google-maps-services-python). The google maps library requires an API key for geocoding which can be purchased [here](https://console.cloud.google.com/apis/library/geocoding-backend.googleapis.com?project=ibm-capstone-projekt). We will refrain from doing so as the information has been provided by the course for free. After downloading, we can import the csv file to a df via Pandas:"
   ],
   "cell_type": "markdown",
   "metadata": {}
  },
  {
   "cell_type": "code",
   "execution_count": 115,
   "metadata": {},
   "outputs": [
    {
     "output_type": "stream",
     "name": "stdout",
     "text": [
      "The dataset has 103 rows and 3 columns\n"
     ]
    },
    {
     "output_type": "execute_result",
     "data": {
      "text/plain": [
       "  Postal Code   Latitude  Longitude\n",
       "0         M1B  43.806686 -79.194353\n",
       "1         M1C  43.784535 -79.160497\n",
       "2         M1E  43.763573 -79.188711\n",
       "3         M1G  43.770992 -79.216917\n",
       "4         M1H  43.773136 -79.239476"
      ],
      "text/html": "<div>\n<style scoped>\n    .dataframe tbody tr th:only-of-type {\n        vertical-align: middle;\n    }\n\n    .dataframe tbody tr th {\n        vertical-align: top;\n    }\n\n    .dataframe thead th {\n        text-align: right;\n    }\n</style>\n<table border=\"1\" class=\"dataframe\">\n  <thead>\n    <tr style=\"text-align: right;\">\n      <th></th>\n      <th>Postal Code</th>\n      <th>Latitude</th>\n      <th>Longitude</th>\n    </tr>\n  </thead>\n  <tbody>\n    <tr>\n      <th>0</th>\n      <td>M1B</td>\n      <td>43.806686</td>\n      <td>-79.194353</td>\n    </tr>\n    <tr>\n      <th>1</th>\n      <td>M1C</td>\n      <td>43.784535</td>\n      <td>-79.160497</td>\n    </tr>\n    <tr>\n      <th>2</th>\n      <td>M1E</td>\n      <td>43.763573</td>\n      <td>-79.188711</td>\n    </tr>\n    <tr>\n      <th>3</th>\n      <td>M1G</td>\n      <td>43.770992</td>\n      <td>-79.216917</td>\n    </tr>\n    <tr>\n      <th>4</th>\n      <td>M1H</td>\n      <td>43.773136</td>\n      <td>-79.239476</td>\n    </tr>\n  </tbody>\n</table>\n</div>"
     },
     "metadata": {},
     "execution_count": 115
    }
   ],
   "source": [
    "coordinates = pd.read_csv('Geospatial_Coordinates.csv')\n",
    "print(\"The dataset has {} rows and {} columns\".format(coordinates.shape[0], coordinates.shape[1]))\n",
    "coordinates.head()"
   ]
  },
  {
   "source": [
    "We can then merge the imported dataframe with our Toronto data set:"
   ],
   "cell_type": "markdown",
   "metadata": {}
  },
  {
   "cell_type": "code",
   "execution_count": 116,
   "metadata": {},
   "outputs": [
    {
     "output_type": "stream",
     "name": "stdout",
     "text": [
      "The dataset has 103 rows and 5 columns\n"
     ]
    },
    {
     "output_type": "execute_result",
     "data": {
      "text/plain": [
       "  POSTAL_CODE      BOROUGH                            NEIGHBORHOOD   Latitude  \\\n",
       "0         M1B  Scarborough                          Malvern, Rouge  43.806686   \n",
       "1         M1C  Scarborough  Rouge Hill, Port Union, Highland Creek  43.784535   \n",
       "2         M1E  Scarborough       Guildwood, Morningside, West Hill  43.763573   \n",
       "3         M1G  Scarborough                                  Woburn  43.770992   \n",
       "4         M1H  Scarborough                               Cedarbrae  43.773136   \n",
       "\n",
       "   Longitude  \n",
       "0 -79.194353  \n",
       "1 -79.160497  \n",
       "2 -79.188711  \n",
       "3 -79.216917  \n",
       "4 -79.239476  "
      ],
      "text/html": "<div>\n<style scoped>\n    .dataframe tbody tr th:only-of-type {\n        vertical-align: middle;\n    }\n\n    .dataframe tbody tr th {\n        vertical-align: top;\n    }\n\n    .dataframe thead th {\n        text-align: right;\n    }\n</style>\n<table border=\"1\" class=\"dataframe\">\n  <thead>\n    <tr style=\"text-align: right;\">\n      <th></th>\n      <th>POSTAL_CODE</th>\n      <th>BOROUGH</th>\n      <th>NEIGHBORHOOD</th>\n      <th>Latitude</th>\n      <th>Longitude</th>\n    </tr>\n  </thead>\n  <tbody>\n    <tr>\n      <th>0</th>\n      <td>M1B</td>\n      <td>Scarborough</td>\n      <td>Malvern, Rouge</td>\n      <td>43.806686</td>\n      <td>-79.194353</td>\n    </tr>\n    <tr>\n      <th>1</th>\n      <td>M1C</td>\n      <td>Scarborough</td>\n      <td>Rouge Hill, Port Union, Highland Creek</td>\n      <td>43.784535</td>\n      <td>-79.160497</td>\n    </tr>\n    <tr>\n      <th>2</th>\n      <td>M1E</td>\n      <td>Scarborough</td>\n      <td>Guildwood, Morningside, West Hill</td>\n      <td>43.763573</td>\n      <td>-79.188711</td>\n    </tr>\n    <tr>\n      <th>3</th>\n      <td>M1G</td>\n      <td>Scarborough</td>\n      <td>Woburn</td>\n      <td>43.770992</td>\n      <td>-79.216917</td>\n    </tr>\n    <tr>\n      <th>4</th>\n      <td>M1H</td>\n      <td>Scarborough</td>\n      <td>Cedarbrae</td>\n      <td>43.773136</td>\n      <td>-79.239476</td>\n    </tr>\n  </tbody>\n</table>\n</div>"
     },
     "metadata": {},
     "execution_count": 116
    }
   ],
   "source": [
    "# Merge dfs\n",
    "toronto = toronto.merge(\n",
    "    coordinates, # New information\n",
    "    how='left', # Make sure to keep everything from original df\n",
    "    left_on='POSTAL_CODE', # Left key\n",
    "    right_on='Postal Code') # Right key\n",
    "\n",
    "# Drop duplicated column\n",
    "toronto.drop(columns=\"Postal Code\", inplace=True)\n",
    "\n",
    "# Display df\n",
    "print(\"The dataset has {} rows and {} columns\".format(toronto.shape[0], toronto.shape[1]))\n",
    "toronto.head()"
   ]
  },
  {
   "source": [
    "<br>"
   ],
   "cell_type": "markdown",
   "metadata": {}
  },
  {
   "source": [
    "### Task 3: Explore and cluster the neighborhoods in Toronto <a name=\"PA_2_3\" ></a>\n",
    "For this task, we are pretty much free to do whatever we want. The only three requirements are: <br>\n",
    "<br>\n",
    "1. The analysis should have the same analysis depth as the New York excercise.<br>\n",
    "2. The notebook have sufficient markdown to explain the conducted analysis<br>\n",
    "3. The analysis needs to include sufficient maps to visualize the clusters. "
   ],
   "cell_type": "markdown",
   "metadata": {}
  }
 ]
}